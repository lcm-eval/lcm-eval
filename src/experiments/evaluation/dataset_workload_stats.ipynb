{
 "cells": [
  {
   "cell_type": "markdown",
   "source": [
    "# Dataset & Workload Stats"
   ],
   "metadata": {
    "collapsed": false
   }
  },
  {
   "cell_type": "code",
   "execution_count": 1,
   "outputs": [],
   "source": [
    "import collections\n",
    "import os\n",
    "from ast import literal_eval\n",
    "\n",
    "import matplotlib.pyplot as plt\n",
    "import numpy as np\n",
    "import pandas as pd\n",
    "import seaborn as sns\n",
    "\n",
    "plt.rc('text', usetex=True)\n",
    "sns.set_theme(style=\"whitegrid\", font_scale=1.3)"
   ],
   "metadata": {
    "collapsed": false,
    "pycharm": {
     "name": "#%%\n"
    },
    "ExecuteTime": {
     "end_time": "2024-06-20T16:32:50.090503Z",
     "start_time": "2024-06-20T16:32:50.088475Z"
    }
   }
  },
  {
   "cell_type": "code",
   "execution_count": 2,
   "outputs": [
    {
     "data": {
      "text/plain": "      dataset_name  no_tables  no_relationships  no_columns   size_gb  \\\n0          airline         16                27         113  3.278603   \n1             imdb         15                14          82  3.575051   \n2              ssb          4                 3          41  1.149623   \n3            tpc_h          8                 7          61  1.017035   \n4          walmart          3                 2           7  0.081059   \n5        financial          8                 7          55  0.254128   \n6       basketball          9                 8         195  0.952195   \n7        accidents          3                 2          43  0.116725   \n8        movielens          7                 6          24  0.138610   \n9         baseball         25                24         353  0.317712   \n10       hepatitis          7                 6          26  0.375614   \n11      tournament          9                 8         106  0.465818   \n12          credit          8                 7          73  0.422986   \n13        employee          6                 5          24  0.395340   \n14        consumer          3                 2          23  0.476412   \n15          geneea         19                18         128  0.490631   \n16          genome          6                 5          20  0.429644   \n17  carcinogenesis          6                 5          23  0.499488   \n18          seznam          4                 3          14  0.132776   \n19            fhnk          3                 2          24  0.134270   \n\n            domain  \n0   Transportation  \n1    Entertainment  \n2         Business  \n3         Business  \n4           Retail  \n5          Finance  \n6           Sports  \n7       Government  \n8    Entertainment  \n9           Sports  \n10          Health  \n11          Sports  \n12         Finance  \n13        Business  \n14          Retail  \n15      Government  \n16       Education  \n17          Health  \n18          Retail  \n19          Health  ",
      "text/html": "<div>\n<style scoped>\n    .dataframe tbody tr th:only-of-type {\n        vertical-align: middle;\n    }\n\n    .dataframe tbody tr th {\n        vertical-align: top;\n    }\n\n    .dataframe thead th {\n        text-align: right;\n    }\n</style>\n<table border=\"1\" class=\"dataframe\">\n  <thead>\n    <tr style=\"text-align: right;\">\n      <th></th>\n      <th>dataset_name</th>\n      <th>no_tables</th>\n      <th>no_relationships</th>\n      <th>no_columns</th>\n      <th>size_gb</th>\n      <th>domain</th>\n    </tr>\n  </thead>\n  <tbody>\n    <tr>\n      <th>0</th>\n      <td>airline</td>\n      <td>16</td>\n      <td>27</td>\n      <td>113</td>\n      <td>3.278603</td>\n      <td>Transportation</td>\n    </tr>\n    <tr>\n      <th>1</th>\n      <td>imdb</td>\n      <td>15</td>\n      <td>14</td>\n      <td>82</td>\n      <td>3.575051</td>\n      <td>Entertainment</td>\n    </tr>\n    <tr>\n      <th>2</th>\n      <td>ssb</td>\n      <td>4</td>\n      <td>3</td>\n      <td>41</td>\n      <td>1.149623</td>\n      <td>Business</td>\n    </tr>\n    <tr>\n      <th>3</th>\n      <td>tpc_h</td>\n      <td>8</td>\n      <td>7</td>\n      <td>61</td>\n      <td>1.017035</td>\n      <td>Business</td>\n    </tr>\n    <tr>\n      <th>4</th>\n      <td>walmart</td>\n      <td>3</td>\n      <td>2</td>\n      <td>7</td>\n      <td>0.081059</td>\n      <td>Retail</td>\n    </tr>\n    <tr>\n      <th>5</th>\n      <td>financial</td>\n      <td>8</td>\n      <td>7</td>\n      <td>55</td>\n      <td>0.254128</td>\n      <td>Finance</td>\n    </tr>\n    <tr>\n      <th>6</th>\n      <td>basketball</td>\n      <td>9</td>\n      <td>8</td>\n      <td>195</td>\n      <td>0.952195</td>\n      <td>Sports</td>\n    </tr>\n    <tr>\n      <th>7</th>\n      <td>accidents</td>\n      <td>3</td>\n      <td>2</td>\n      <td>43</td>\n      <td>0.116725</td>\n      <td>Government</td>\n    </tr>\n    <tr>\n      <th>8</th>\n      <td>movielens</td>\n      <td>7</td>\n      <td>6</td>\n      <td>24</td>\n      <td>0.138610</td>\n      <td>Entertainment</td>\n    </tr>\n    <tr>\n      <th>9</th>\n      <td>baseball</td>\n      <td>25</td>\n      <td>24</td>\n      <td>353</td>\n      <td>0.317712</td>\n      <td>Sports</td>\n    </tr>\n    <tr>\n      <th>10</th>\n      <td>hepatitis</td>\n      <td>7</td>\n      <td>6</td>\n      <td>26</td>\n      <td>0.375614</td>\n      <td>Health</td>\n    </tr>\n    <tr>\n      <th>11</th>\n      <td>tournament</td>\n      <td>9</td>\n      <td>8</td>\n      <td>106</td>\n      <td>0.465818</td>\n      <td>Sports</td>\n    </tr>\n    <tr>\n      <th>12</th>\n      <td>credit</td>\n      <td>8</td>\n      <td>7</td>\n      <td>73</td>\n      <td>0.422986</td>\n      <td>Finance</td>\n    </tr>\n    <tr>\n      <th>13</th>\n      <td>employee</td>\n      <td>6</td>\n      <td>5</td>\n      <td>24</td>\n      <td>0.395340</td>\n      <td>Business</td>\n    </tr>\n    <tr>\n      <th>14</th>\n      <td>consumer</td>\n      <td>3</td>\n      <td>2</td>\n      <td>23</td>\n      <td>0.476412</td>\n      <td>Retail</td>\n    </tr>\n    <tr>\n      <th>15</th>\n      <td>geneea</td>\n      <td>19</td>\n      <td>18</td>\n      <td>128</td>\n      <td>0.490631</td>\n      <td>Government</td>\n    </tr>\n    <tr>\n      <th>16</th>\n      <td>genome</td>\n      <td>6</td>\n      <td>5</td>\n      <td>20</td>\n      <td>0.429644</td>\n      <td>Education</td>\n    </tr>\n    <tr>\n      <th>17</th>\n      <td>carcinogenesis</td>\n      <td>6</td>\n      <td>5</td>\n      <td>23</td>\n      <td>0.499488</td>\n      <td>Health</td>\n    </tr>\n    <tr>\n      <th>18</th>\n      <td>seznam</td>\n      <td>4</td>\n      <td>3</td>\n      <td>14</td>\n      <td>0.132776</td>\n      <td>Retail</td>\n    </tr>\n    <tr>\n      <th>19</th>\n      <td>fhnk</td>\n      <td>3</td>\n      <td>2</td>\n      <td>24</td>\n      <td>0.134270</td>\n      <td>Health</td>\n    </tr>\n  </tbody>\n</table>\n</div>"
     },
     "execution_count": 2,
     "metadata": {},
     "output_type": "execute_result"
    }
   ],
   "source": [
    "dataset_stats = pd.read_csv('../data/statistics/dataset_stats.csv')\n",
    "\n",
    "domains = {'airline':'Transportation',\n",
    " 'imdb':'Entertainment',\n",
    " 'ssb':'Business',\n",
    " 'tpc_h':'Business',\n",
    " 'walmart':'Retail',\n",
    " 'financial':'Finance',\n",
    " 'basketball':'Sports',\n",
    " 'accidents':'Government',\n",
    " 'movielens':'Entertainment',\n",
    " 'baseball':'Sports',\n",
    " 'hepatitis':'Health',\n",
    " 'tournament':'Sports',\n",
    " 'credit':'Finance',\n",
    " 'employee':'Business',\n",
    " 'consumer':'Retail',\n",
    " 'geneea':'Government',\n",
    " 'genome':'Education',\n",
    " 'carcinogenesis':'Health',\n",
    " 'seznam':'Retail',\n",
    " 'fhnk':'Health'}\n",
    "dataset_stats['domain'] = dataset_stats.dataset_name.map(domains)\n",
    "\n",
    "dataset_stats"
   ],
   "metadata": {
    "collapsed": false,
    "pycharm": {
     "name": "#%%\n"
    },
    "ExecuteTime": {
     "end_time": "2024-06-20T16:32:51.244310Z",
     "start_time": "2024-06-20T16:32:51.223631Z"
    }
   }
  },
  {
   "cell_type": "code",
   "execution_count": 70,
   "outputs": [
    {
     "data": {
      "text/plain": "dataset_name        accidents\nno_tables                   3\nno_relationships            2\nno_columns                  7\nsize_gb             0.0810592\ndomain               Business\ndtype: object"
     },
     "execution_count": 70,
     "metadata": {},
     "output_type": "execute_result"
    }
   ],
   "source": [
    "dataset_stats.min()"
   ],
   "metadata": {
    "collapsed": false,
    "pycharm": {
     "name": "#%%\n"
    }
   }
  },
  {
   "cell_type": "code",
   "execution_count": 71,
   "outputs": [
    {
     "data": {
      "text/plain": "dataset_name               walmart\nno_tables                       25\nno_relationships                27\nno_columns                     353\nsize_gb                    3.57505\ndomain              Transportation\ndtype: object"
     },
     "execution_count": 71,
     "metadata": {},
     "output_type": "execute_result"
    }
   ],
   "source": [
    "dataset_stats.max()"
   ],
   "metadata": {
    "collapsed": false,
    "pycharm": {
     "name": "#%%\n"
    }
   }
  },
  {
   "cell_type": "code",
   "execution_count": 77,
   "outputs": [
    {
     "name": "stdout",
     "output_type": "stream",
     "text": [
      "No of domains: 9\n"
     ]
    },
    {
     "data": {
      "text/plain": "<Figure size 504x288 with 4 Axes>",
      "image/png": "[encoded data removed]"
     },
     "metadata": {},
     "output_type": "display_data"
    }
   ],
   "source": [
    "sns.set_theme(style=\"whitegrid\", font_scale=1.1)\n",
    "\n",
    "fig, axes = plt.subplots(2, 3, figsize=(7, 4))\n",
    "\n",
    "for_axes = [axes[1][0], axes[1][1], axes[1][2]]\n",
    "for i, (col, label) in enumerate([\n",
    "    ('no_tables', 'No. of Tables \\nper Dataset'),\n",
    "    ('no_columns', 'No. of Columns \\nper Dataset'),\n",
    "    ('no_relationships', 'No. of \\nFK-Relationships \\nper Dataset')\n",
    "]):\n",
    "    ax = for_axes[i]\n",
    "    sns.boxplot(data=dataset_stats, y=col, ax=ax)\n",
    "    ax.set_ylabel(label)\n",
    "\n",
    "\n",
    "gs = axes[0, 0].get_gridspec()\n",
    "for ax in axes[0]:\n",
    "    ax.remove()\n",
    "ax = fig.add_subplot(gs[0, :])\n",
    "# ax = axes[0][0]\n",
    "# axes[2][-1].remove()\n",
    "\n",
    "df_domain = dataset_stats[['domain', 'dataset_name']].groupby(['domain']).count().reset_index()\n",
    "df_domain.columns = ['domain', 'count']\n",
    "# print(df_domain['count'].sum())\n",
    "print(f\"No of domains: {len(df_domain['count'])}\")\n",
    "df_domain = df_domain.sort_values(['count'], ascending=False)\n",
    "# sns.barplot(data=df_domain, y='domain', x='count', ax=ax)\n",
    "sns.barplot(data=df_domain, y='domain', x='count', ax=ax)\n",
    "ax.set_ylabel('Domain')\n",
    "ax.set_xlabel('No. of Datasets')\n",
    "ax.set_xticks([1,2,3])\n",
    "\n",
    "plt.tight_layout()\n",
    "plt.savefig(f'paper_plots/dataset_stats.pdf', bbox_inches='tight')\n",
    "plt.show()"
   ],
   "metadata": {
    "collapsed": false,
    "pycharm": {
     "name": "#%%\n"
    }
   }
  },
  {
   "cell_type": "code",
   "execution_count": 4,
   "outputs": [
    {
     "data": {
      "text/plain": "    dataset                           workload  no_plans  \\\n0   airline        workload_100k_s1_c8220.json      5000   \n1      imdb        workload_100k_s1_c8220.json      5000   \n2       ssb        workload_100k_s1_c8220.json      5000   \n3     tpc_h        workload_100k_s1_c8220.json      5000   \n4   walmart        workload_100k_s1_c8220.json      5000   \n..      ...                                ...       ...   \n58   seznam  index_workload_100k_s2_c8220.json      5000   \n59     fhnk  index_workload_100k_s2_c8220.json      5000   \n60     imdb               synthetic_c8220.json      4565   \n61     imdb                   scale_c8220.json       382   \n62     imdb               job-light_c8220.json        50   \n\n                                             runtimes  \\\n0   [3130.607, 1489.273, 4366.177, 1519.294, 2069....   \n1   [6544.887, 18963.993, 16308.11, 8279.173, 227....   \n2   [2542.519, 1423.095, 9428.184, 1160.241, 887.7...   \n3   [12202.446, 829.931, 2238.983, 1253.656, 1402....   \n4   [365.304, 384.056, 249.8, 385.749, 282.652, 65...   \n..                                                ...   \n58  [108.666, 3583.05, 484.397, 100.087, 2522.461,...   \n59  [1850.457, 465.302, 248.564, 24803.401, 6617.8...   \n60  [2428.32, 2874.218, 20625.223, 4368.807, 4299....   \n61  [3566.861, 225.883, 17052.73, 318.693, 2081.28...   \n62  [562.803, 329.102, 938.919, 23957.075, 11191.4...   \n\n                                            no_tables  \\\n0   [4, 2, 2, 5, 4, 2, 2, 5, 2, 4, 2, 2, 5, 6, 5, ...   \n1   [4, 5, 2, 4, 2, 4, 1, 3, 2, 3, 2, 3, 5, 5, 1, ...   \n2   [2, 4, 4, 4, 3, 3, 2, 4, 3, 3, 2, 2, 3, 2, 3, ...   \n3   [6, 1, 6, 6, 1, 5, 2, 4, 6, 2, 6, 4, 4, 5, 5, ...   \n4   [3, 1, 1, 2, 2, 3, 2, 3, 3, 3, 3, 3, 3, 3, 1, ...   \n..                                                ...   \n58  [1, 4, 3, 1, 3, 3, 3, 3, 2, 4, 3, 2, 3, 4, 4, ...   \n59  [3, 1, 3, 3, 3, 3, 3, 3, 1, 3, 3, 3, 3, 3, 2, ...   \n60  [1, 2, 2, 3, 3, 2, 3, 1, 3, 1, 3, 1, 2, 3, 3, ...   \n61  [2, 1, 4, 1, 2, 1, 2, 4, 1, 2, 2, 2, 3, 2, 2, ...   \n62  [3, 3, 3, 3, 3, 3, 3, 3, 3, 3, 3, 3, 3, 3, 3, ...   \n\n                                           no_filters  \n0   [5, 2, 4, 5, 5, 6, 3, 6, 4, 3, 3, 2, 7, 7, 5, ...  \n1   [8, 7, 3, 7, 2, 3, 3, 3, 4, 3, 3, 5, 8, 5, 1, ...  \n2   [5, 5, 5, 4, 6, 7, 3, 5, 5, 5, 2, 5, 6, 5, 4, ...  \n3   [8, 4, 6, 8, 3, 10, 5, 7, 10, 5, 5, 4, 4, 4, 9...  \n4   [3, 3, 2, 2, 4, 4, 4, 3, 4, 4, 3, 3, 3, 3, 2, ...  \n..                                                ...  \n58  [3, 2, 6, 4, 4, 4, 3, 6, 2, 8, 2, 6, 3, 5, 3, ...  \n59  [3, 1, 3, 5, 3, 4, 7, 5, 1, 1, 5, 3, 4, 5, 2, ...  \n60  [1, 4, 2, 4, 6, 3, 4, 1, 5, 2, 3, 2, 2, 5, 6, ...  \n61  [3, 1, 4, 1, 2, 1, 1, 6, 1, 1, 2, 3, 3, 1, 2, ...  \n62  [3, 4, 2, 3, 3, 4, 4, 4, 4, 4, 4, 3, 3, 4, 3, ...  \n\n[63 rows x 6 columns]",
      "text/html": "<div>\n<style scoped>\n    .dataframe tbody tr th:only-of-type {\n        vertical-align: middle;\n    }\n\n    .dataframe tbody tr th {\n        vertical-align: top;\n    }\n\n    .dataframe thead th {\n        text-align: right;\n    }\n</style>\n<table border=\"1\" class=\"dataframe\">\n  <thead>\n    <tr style=\"text-align: right;\">\n      <th></th>\n      <th>dataset</th>\n      <th>workload</th>\n      <th>no_plans</th>\n      <th>runtimes</th>\n      <th>no_tables</th>\n      <th>no_filters</th>\n    </tr>\n  </thead>\n  <tbody>\n    <tr>\n      <th>0</th>\n      <td>airline</td>\n      <td>workload_100k_s1_c8220.json</td>\n      <td>5000</td>\n      <td>[3130.607, 1489.273, 4366.177, 1519.294, 2069....</td>\n      <td>[4, 2, 2, 5, 4, 2, 2, 5, 2, 4, 2, 2, 5, 6, 5, ...</td>\n      <td>[5, 2, 4, 5, 5, 6, 3, 6, 4, 3, 3, 2, 7, 7, 5, ...</td>\n    </tr>\n    <tr>\n      <th>1</th>\n      <td>imdb</td>\n      <td>workload_100k_s1_c8220.json</td>\n      <td>5000</td>\n      <td>[6544.887, 18963.993, 16308.11, 8279.173, 227....</td>\n      <td>[4, 5, 2, 4, 2, 4, 1, 3, 2, 3, 2, 3, 5, 5, 1, ...</td>\n      <td>[8, 7, 3, 7, 2, 3, 3, 3, 4, 3, 3, 5, 8, 5, 1, ...</td>\n    </tr>\n    <tr>\n      <th>2</th>\n      <td>ssb</td>\n      <td>workload_100k_s1_c8220.json</td>\n      <td>5000</td>\n      <td>[2542.519, 1423.095, 9428.184, 1160.241, 887.7...</td>\n      <td>[2, 4, 4, 4, 3, 3, 2, 4, 3, 3, 2, 2, 3, 2, 3, ...</td>\n      <td>[5, 5, 5, 4, 6, 7, 3, 5, 5, 5, 2, 5, 6, 5, 4, ...</td>\n    </tr>\n    <tr>\n      <th>3</th>\n      <td>tpc_h</td>\n      <td>workload_100k_s1_c8220.json</td>\n      <td>5000</td>\n      <td>[12202.446, 829.931, 2238.983, 1253.656, 1402....</td>\n      <td>[6, 1, 6, 6, 1, 5, 2, 4, 6, 2, 6, 4, 4, 5, 5, ...</td>\n      <td>[8, 4, 6, 8, 3, 10, 5, 7, 10, 5, 5, 4, 4, 4, 9...</td>\n    </tr>\n    <tr>\n      <th>4</th>\n      <td>walmart</td>\n      <td>workload_100k_s1_c8220.json</td>\n      <td>5000</td>\n      <td>[365.304, 384.056, 249.8, 385.749, 282.652, 65...</td>\n      <td>[3, 1, 1, 2, 2, 3, 2, 3, 3, 3, 3, 3, 3, 3, 1, ...</td>\n      <td>[3, 3, 2, 2, 4, 4, 4, 3, 4, 4, 3, 3, 3, 3, 2, ...</td>\n    </tr>\n    <tr>\n      <th>...</th>\n      <td>...</td>\n      <td>...</td>\n      <td>...</td>\n      <td>...</td>\n      <td>...</td>\n      <td>...</td>\n    </tr>\n    <tr>\n      <th>58</th>\n      <td>seznam</td>\n      <td>index_workload_100k_s2_c8220.json</td>\n      <td>5000</td>\n      <td>[108.666, 3583.05, 484.397, 100.087, 2522.461,...</td>\n      <td>[1, 4, 3, 1, 3, 3, 3, 3, 2, 4, 3, 2, 3, 4, 4, ...</td>\n      <td>[3, 2, 6, 4, 4, 4, 3, 6, 2, 8, 2, 6, 3, 5, 3, ...</td>\n    </tr>\n    <tr>\n      <th>59</th>\n      <td>fhnk</td>\n      <td>index_workload_100k_s2_c8220.json</td>\n      <td>5000</td>\n      <td>[1850.457, 465.302, 248.564, 24803.401, 6617.8...</td>\n      <td>[3, 1, 3, 3, 3, 3, 3, 3, 1, 3, 3, 3, 3, 3, 2, ...</td>\n      <td>[3, 1, 3, 5, 3, 4, 7, 5, 1, 1, 5, 3, 4, 5, 2, ...</td>\n    </tr>\n    <tr>\n      <th>60</th>\n      <td>imdb</td>\n      <td>synthetic_c8220.json</td>\n      <td>4565</td>\n      <td>[2428.32, 2874.218, 20625.223, 4368.807, 4299....</td>\n      <td>[1, 2, 2, 3, 3, 2, 3, 1, 3, 1, 3, 1, 2, 3, 3, ...</td>\n      <td>[1, 4, 2, 4, 6, 3, 4, 1, 5, 2, 3, 2, 2, 5, 6, ...</td>\n    </tr>\n    <tr>\n      <th>61</th>\n      <td>imdb</td>\n      <td>scale_c8220.json</td>\n      <td>382</td>\n      <td>[3566.861, 225.883, 17052.73, 318.693, 2081.28...</td>\n      <td>[2, 1, 4, 1, 2, 1, 2, 4, 1, 2, 2, 2, 3, 2, 2, ...</td>\n      <td>[3, 1, 4, 1, 2, 1, 1, 6, 1, 1, 2, 3, 3, 1, 2, ...</td>\n    </tr>\n    <tr>\n      <th>62</th>\n      <td>imdb</td>\n      <td>job-light_c8220.json</td>\n      <td>50</td>\n      <td>[562.803, 329.102, 938.919, 23957.075, 11191.4...</td>\n      <td>[3, 3, 3, 3, 3, 3, 3, 3, 3, 3, 3, 3, 3, 3, 3, ...</td>\n      <td>[3, 4, 2, 3, 3, 4, 4, 4, 4, 4, 4, 3, 3, 4, 3, ...</td>\n    </tr>\n  </tbody>\n</table>\n<p>63 rows × 6 columns</p>\n</div>"
     },
     "execution_count": 4,
     "metadata": {},
     "output_type": "execute_result"
    }
   ],
   "source": [
    "# complex_workload_200k_s1_c8220.json     99096\n",
    "# index_workload_100k_s2_c8220.json      100000\n",
    "# job-light_c8220.json                       50\n",
    "# scale_c8220.json                          382\n",
    "# synthetic_c8220.json                     4565\n",
    "# workload_100k_s1_c8220.json            100000\n",
    "\n",
    "workload_stats = pd.read_csv('../data/statistics/postgres_workload_stats.csv')\n",
    "workload_stats"
   ],
   "metadata": {
    "collapsed": false,
    "pycharm": {
     "name": "#%%\n"
    }
   }
  },
  {
   "cell_type": "code",
   "execution_count": 5,
   "outputs": [
    {
     "data": {
      "text/plain": "array(['workload_100k_s1_c8220.json',\n       'complex_workload_200k_s1_c8220.json',\n       'index_workload_100k_s2_c8220.json', 'synthetic_c8220.json',\n       'scale_c8220.json', 'job-light_c8220.json'], dtype=object)"
     },
     "execution_count": 5,
     "metadata": {},
     "output_type": "execute_result"
    }
   ],
   "source": [
    "workload_stats.workload.unique()"
   ],
   "metadata": {
    "collapsed": false,
    "pycharm": {
     "name": "#%%\n"
    }
   }
  },
  {
   "cell_type": "code",
   "execution_count": 6,
   "outputs": [
    {
     "name": "stdout",
     "output_type": "stream",
     "text": [
      "Workload default\n",
      "\tNo queries: 100000\n",
      "\tTotal Runtime (h): 81.92\n"
     ]
    },
    {
     "data": {
      "text/plain": "<Figure size 504x144 with 3 Axes>",
      "image/png": "[encoded data removed]"
     },
     "metadata": {},
     "output_type": "display_data"
    },
    {
     "data": {
      "text/plain": "<Figure size 504x144 with 2 Axes>",
      "image/png": "[encoded data removed]"
     },
     "metadata": {},
     "output_type": "display_data"
    },
    {
     "name": "stdout",
     "output_type": "stream",
     "text": [
      "Workload complex\n",
      "\tNo queries: 99096\n",
      "\tTotal Runtime (h): 80.33\n"
     ]
    },
    {
     "data": {
      "text/plain": "<Figure size 504x144 with 3 Axes>",
      "image/png": "[encoded data removed]"
     },
     "metadata": {},
     "output_type": "display_data"
    },
    {
     "data": {
      "text/plain": "<Figure size 504x144 with 2 Axes>",
      "image/png": "[encoded data removed]"
     },
     "metadata": {},
     "output_type": "display_data"
    },
    {
     "name": "stdout",
     "output_type": "stream",
     "text": [
      "Workload index\n",
      "\tNo queries: 100000\n",
      "\tTotal Runtime (h): 82.95\n"
     ]
    },
    {
     "data": {
      "text/plain": "<Figure size 504x144 with 3 Axes>",
      "image/png": "[encoded data removed]"
     },
     "metadata": {},
     "output_type": "display_data"
    },
    {
     "data": {
      "text/plain": "<Figure size 504x144 with 2 Axes>",
      "image/png": "[encoded data removed]"
     },
     "metadata": {},
     "output_type": "display_data"
    }
   ],
   "source": [
    "for wl_label, wl in [('default', 'workload_100k_s1_c8220.json'),\n",
    "                     ('complex', 'complex_workload_200k_s1_c8220.json'),\n",
    "                     ('index', 'index_workload_100k_s2_c8220.json')]:\n",
    "\n",
    "    all_runtimes = []\n",
    "    all_no_tables = []\n",
    "    all_no_filters = []\n",
    "\n",
    "    for _, r in workload_stats[workload_stats.workload == wl].iterrows():\n",
    "        all_no_tables += literal_eval(r.no_tables)\n",
    "        all_no_filters += literal_eval(r.no_filters)\n",
    "        all_runtimes += literal_eval(r.runtimes)\n",
    "\n",
    "    print(f\"Workload {wl_label}\")\n",
    "    print(f\"\\tNo queries: {len(all_runtimes)}\")\n",
    "    print(f\"\\tTotal Runtime (h): {sum(all_runtimes) / (1000 * 3600):.2f}\")\n",
    "\n",
    "    dataset_cols = [\n",
    "        (all_runtimes, 'all-runtimes'),\n",
    "        (all_no_tables, 'all-no-tables'),\n",
    "        (all_no_filters, 'all-no-filters')\n",
    "    ]\n",
    "\n",
    "    sns.set_theme(style=\"whitegrid\", font_scale=1.1)\n",
    "\n",
    "    fig, axes = plt.subplots(1, len(dataset_cols), figsize=(7, 2))\n",
    "    for i, (col_data, label) in enumerate(dataset_cols):\n",
    "        ax = axes[i]\n",
    "        sns.boxplot(y=col_data, ax=ax)\n",
    "        ax.set_ylabel(label)\n",
    "\n",
    "    plt.tight_layout()\n",
    "    # plt.savefig(f'paper_plots/dataset_stats.pdf', bbox_inches='tight')\n",
    "    plt.show()\n",
    "\n",
    "    sns.set_theme(style=\"whitegrid\", font_scale=1.1)\n",
    "    fig, axes = plt.subplots(1, 2, figsize=(7, 2))\n",
    "    handles = None\n",
    "    linewidth = 3\n",
    "\n",
    "    sns.histplot(np.array(all_no_tables) - 1,\n",
    "                 ax=axes[0],\n",
    "                 discrete=True\n",
    "                 )\n",
    "    axes[0].set(xlabel='Number of Joins', ylabel='Number of \\nQueries')\n",
    "\n",
    "    sns.histplot(all_runtimes,\n",
    "                 log_scale=True,\n",
    "                 ax=axes[1]\n",
    "                 )\n",
    "    axes[1].set(xlabel='Query Runtimes', ylabel=None)\n",
    "\n",
    "    plt.tight_layout()\n",
    "\n",
    "    path = f'paper_plots/{wl_label}_workload_stats.pdf'\n",
    "    os.makedirs(os.path.dirname(path), exist_ok=True)\n",
    "    plt.savefig(path, bbox_inches='tight')\n",
    "    plt.show() "
   ],
   "metadata": {
    "collapsed": false,
    "pycharm": {
     "name": "#%%\n"
    }
   }
  },
  {
   "cell_type": "markdown",
   "source": [
    "## SPN statistics"
   ],
   "metadata": {
    "collapsed": false,
    "pycharm": {
     "name": "#%% md\n"
    }
   }
  },
  {
   "cell_type": "code",
   "execution_count": 6,
   "outputs": [
    {
     "data": {
      "text/plain": "      database  learn_time ens_style\n0         imdb   16.634801    binary\n1         imdb    8.571546    binary\n2         imdb    4.562343    binary\n3         imdb    4.806272    binary\n4         imdb    7.479488    binary\n..         ...         ...       ...\n293  imdb_full    0.000028    single\n294  imdb_full    2.519199    single\n295  imdb_full   11.412820    single\n296  imdb_full    1.136291    single\n297  imdb_full    0.000031    single\n\n[298 rows x 3 columns]",
      "text/html": "<div>\n<style scoped>\n    .dataframe tbody tr th:only-of-type {\n        vertical-align: middle;\n    }\n\n    .dataframe tbody tr th {\n        vertical-align: top;\n    }\n\n    .dataframe thead th {\n        text-align: right;\n    }\n</style>\n<table border=\"1\" class=\"dataframe\">\n  <thead>\n    <tr style=\"text-align: right;\">\n      <th></th>\n      <th>database</th>\n      <th>learn_time</th>\n      <th>ens_style</th>\n    </tr>\n  </thead>\n  <tbody>\n    <tr>\n      <th>0</th>\n      <td>imdb</td>\n      <td>16.634801</td>\n      <td>binary</td>\n    </tr>\n    <tr>\n      <th>1</th>\n      <td>imdb</td>\n      <td>8.571546</td>\n      <td>binary</td>\n    </tr>\n    <tr>\n      <th>2</th>\n      <td>imdb</td>\n      <td>4.562343</td>\n      <td>binary</td>\n    </tr>\n    <tr>\n      <th>3</th>\n      <td>imdb</td>\n      <td>4.806272</td>\n      <td>binary</td>\n    </tr>\n    <tr>\n      <th>4</th>\n      <td>imdb</td>\n      <td>7.479488</td>\n      <td>binary</td>\n    </tr>\n    <tr>\n      <th>...</th>\n      <td>...</td>\n      <td>...</td>\n      <td>...</td>\n    </tr>\n    <tr>\n      <th>293</th>\n      <td>imdb_full</td>\n      <td>0.000028</td>\n      <td>single</td>\n    </tr>\n    <tr>\n      <th>294</th>\n      <td>imdb_full</td>\n      <td>2.519199</td>\n      <td>single</td>\n    </tr>\n    <tr>\n      <th>295</th>\n      <td>imdb_full</td>\n      <td>11.412820</td>\n      <td>single</td>\n    </tr>\n    <tr>\n      <th>296</th>\n      <td>imdb_full</td>\n      <td>1.136291</td>\n      <td>single</td>\n    </tr>\n    <tr>\n      <th>297</th>\n      <td>imdb_full</td>\n      <td>0.000031</td>\n      <td>single</td>\n    </tr>\n  </tbody>\n</table>\n<p>298 rows × 3 columns</p>\n</div>"
     },
     "execution_count": 6,
     "metadata": {},
     "output_type": "execute_result"
    }
   ],
   "source": [
    "df_spn_stats = pd.read_csv('../data/statistics/spn_stats.csv')\n",
    "df_spn_stats.learn_time /= 60 # have it in mins\n",
    "df_spn_stats"
   ],
   "metadata": {
    "collapsed": false,
    "pycharm": {
     "name": "#%%\n"
    }
   }
  },
  {
   "cell_type": "code",
   "execution_count": 9,
   "outputs": [
    {
     "data": {
      "text/plain": "   ens_style        database  learn_time\n0     binary       accidents  117.580665\n1     binary      basketball  228.410056\n2     binary  carcinogenesis    2.058823\n3     binary        consumer   20.284646\n4     binary          credit   10.138314\n5     binary        employee   15.285697\n6     binary            fhnk   58.675219\n7     binary       financial   12.134902\n8     binary          geneea   63.780183\n9     binary          genome   27.329685\n10    binary       hepatitis    0.587318\n11    binary            imdb  122.776643\n12    binary       imdb_full  120.679402\n13    binary       movielens   10.440926\n14    binary          seznam   17.839554\n15    binary             ssb   33.964008\n16    binary      tournament   17.256554\n17    binary           tpc_h   29.117005\n18    binary         walmart    1.081181\n19    single       accidents  120.253858\n20    single        baseball   99.934842\n21    single      basketball   44.293488\n22    single  carcinogenesis    0.906446\n23    single        consumer    7.598383\n24    single          credit    1.104273\n25    single        employee    4.451850\n26    single            fhnk    8.672702\n27    single       financial    6.971081\n28    single          geneea   17.920921\n29    single          genome   10.771941\n30    single       hepatitis    0.193394\n31    single            imdb   39.761217\n32    single       imdb_full   51.058253\n33    single       movielens    0.479300\n34    single          seznam    1.483560\n35    single             ssb    6.671179\n36    single      tournament    9.342124\n37    single           tpc_h    6.491712\n38    single         walmart    0.097327",
      "text/html": "<div>\n<style scoped>\n    .dataframe tbody tr th:only-of-type {\n        vertical-align: middle;\n    }\n\n    .dataframe tbody tr th {\n        vertical-align: top;\n    }\n\n    .dataframe thead th {\n        text-align: right;\n    }\n</style>\n<table border=\"1\" class=\"dataframe\">\n  <thead>\n    <tr style=\"text-align: right;\">\n      <th></th>\n      <th>ens_style</th>\n      <th>database</th>\n      <th>learn_time</th>\n    </tr>\n  </thead>\n  <tbody>\n    <tr>\n      <th>0</th>\n      <td>binary</td>\n      <td>accidents</td>\n      <td>117.580665</td>\n    </tr>\n    <tr>\n      <th>1</th>\n      <td>binary</td>\n      <td>basketball</td>\n      <td>228.410056</td>\n    </tr>\n    <tr>\n      <th>2</th>\n      <td>binary</td>\n      <td>carcinogenesis</td>\n      <td>2.058823</td>\n    </tr>\n    <tr>\n      <th>3</th>\n      <td>binary</td>\n      <td>consumer</td>\n      <td>20.284646</td>\n    </tr>\n    <tr>\n      <th>4</th>\n      <td>binary</td>\n      <td>credit</td>\n      <td>10.138314</td>\n    </tr>\n    <tr>\n      <th>5</th>\n      <td>binary</td>\n      <td>employee</td>\n      <td>15.285697</td>\n    </tr>\n    <tr>\n      <th>6</th>\n      <td>binary</td>\n      <td>fhnk</td>\n      <td>58.675219</td>\n    </tr>\n    <tr>\n      <th>7</th>\n      <td>binary</td>\n      <td>financial</td>\n      <td>12.134902</td>\n    </tr>\n    <tr>\n      <th>8</th>\n      <td>binary</td>\n      <td>geneea</td>\n      <td>63.780183</td>\n    </tr>\n    <tr>\n      <th>9</th>\n      <td>binary</td>\n      <td>genome</td>\n      <td>27.329685</td>\n    </tr>\n    <tr>\n      <th>10</th>\n      <td>binary</td>\n      <td>hepatitis</td>\n      <td>0.587318</td>\n    </tr>\n    <tr>\n      <th>11</th>\n      <td>binary</td>\n      <td>imdb</td>\n      <td>122.776643</td>\n    </tr>\n    <tr>\n      <th>12</th>\n      <td>binary</td>\n      <td>imdb_full</td>\n      <td>120.679402</td>\n    </tr>\n    <tr>\n      <th>13</th>\n      <td>binary</td>\n      <td>movielens</td>\n      <td>10.440926</td>\n    </tr>\n    <tr>\n      <th>14</th>\n      <td>binary</td>\n      <td>seznam</td>\n      <td>17.839554</td>\n    </tr>\n    <tr>\n      <th>15</th>\n      <td>binary</td>\n      <td>ssb</td>\n      <td>33.964008</td>\n    </tr>\n    <tr>\n      <th>16</th>\n      <td>binary</td>\n      <td>tournament</td>\n      <td>17.256554</td>\n    </tr>\n    <tr>\n      <th>17</th>\n      <td>binary</td>\n      <td>tpc_h</td>\n      <td>29.117005</td>\n    </tr>\n    <tr>\n      <th>18</th>\n      <td>binary</td>\n      <td>walmart</td>\n      <td>1.081181</td>\n    </tr>\n    <tr>\n      <th>19</th>\n      <td>single</td>\n      <td>accidents</td>\n      <td>120.253858</td>\n    </tr>\n    <tr>\n      <th>20</th>\n      <td>single</td>\n      <td>baseball</td>\n      <td>99.934842</td>\n    </tr>\n    <tr>\n      <th>21</th>\n      <td>single</td>\n      <td>basketball</td>\n      <td>44.293488</td>\n    </tr>\n    <tr>\n      <th>22</th>\n      <td>single</td>\n      <td>carcinogenesis</td>\n      <td>0.906446</td>\n    </tr>\n    <tr>\n      <th>23</th>\n      <td>single</td>\n      <td>consumer</td>\n      <td>7.598383</td>\n    </tr>\n    <tr>\n      <th>24</th>\n      <td>single</td>\n      <td>credit</td>\n      <td>1.104273</td>\n    </tr>\n    <tr>\n      <th>25</th>\n      <td>single</td>\n      <td>employee</td>\n      <td>4.451850</td>\n    </tr>\n    <tr>\n      <th>26</th>\n      <td>single</td>\n      <td>fhnk</td>\n      <td>8.672702</td>\n    </tr>\n    <tr>\n      <th>27</th>\n      <td>single</td>\n      <td>financial</td>\n      <td>6.971081</td>\n    </tr>\n    <tr>\n      <th>28</th>\n      <td>single</td>\n      <td>geneea</td>\n      <td>17.920921</td>\n    </tr>\n    <tr>\n      <th>29</th>\n      <td>single</td>\n      <td>genome</td>\n      <td>10.771941</td>\n    </tr>\n    <tr>\n      <th>30</th>\n      <td>single</td>\n      <td>hepatitis</td>\n      <td>0.193394</td>\n    </tr>\n    <tr>\n      <th>31</th>\n      <td>single</td>\n      <td>imdb</td>\n      <td>39.761217</td>\n    </tr>\n    <tr>\n      <th>32</th>\n      <td>single</td>\n      <td>imdb_full</td>\n      <td>51.058253</td>\n    </tr>\n    <tr>\n      <th>33</th>\n      <td>single</td>\n      <td>movielens</td>\n      <td>0.479300</td>\n    </tr>\n    <tr>\n      <th>34</th>\n      <td>single</td>\n      <td>seznam</td>\n      <td>1.483560</td>\n    </tr>\n    <tr>\n      <th>35</th>\n      <td>single</td>\n      <td>ssb</td>\n      <td>6.671179</td>\n    </tr>\n    <tr>\n      <th>36</th>\n      <td>single</td>\n      <td>tournament</td>\n      <td>9.342124</td>\n    </tr>\n    <tr>\n      <th>37</th>\n      <td>single</td>\n      <td>tpc_h</td>\n      <td>6.491712</td>\n    </tr>\n    <tr>\n      <th>38</th>\n      <td>single</td>\n      <td>walmart</td>\n      <td>0.097327</td>\n    </tr>\n  </tbody>\n</table>\n</div>"
     },
     "execution_count": 9,
     "metadata": {},
     "output_type": "execute_result"
    }
   ],
   "source": [
    "df_total_time = df_spn_stats.groupby(['ens_style', 'database']).sum().reset_index()\n",
    "df_total_time"
   ],
   "metadata": {
    "collapsed": false,
    "pycharm": {
     "name": "#%%\n"
    }
   }
  },
  {
   "cell_type": "markdown",
   "source": [
    "Median time to create an ensemble (depending on whether we want a binary ensemble (i.e., an SPN per binary join) or a single ensemble (i.e., an SPN per table))"
   ],
   "metadata": {
    "collapsed": false,
    "pycharm": {
     "name": "#%% md\n"
    }
   }
  },
  {
   "cell_type": "code",
   "execution_count": 10,
   "outputs": [
    {
     "data": {
      "text/plain": "           learn_time\nens_style            \nbinary      20.284646\nsingle       7.284732",
      "text/html": "<div>\n<style scoped>\n    .dataframe tbody tr th:only-of-type {\n        vertical-align: middle;\n    }\n\n    .dataframe tbody tr th {\n        vertical-align: top;\n    }\n\n    .dataframe thead th {\n        text-align: right;\n    }\n</style>\n<table border=\"1\" class=\"dataframe\">\n  <thead>\n    <tr style=\"text-align: right;\">\n      <th></th>\n      <th>learn_time</th>\n    </tr>\n    <tr>\n      <th>ens_style</th>\n      <th></th>\n    </tr>\n  </thead>\n  <tbody>\n    <tr>\n      <th>binary</th>\n      <td>20.284646</td>\n    </tr>\n    <tr>\n      <th>single</th>\n      <td>7.284732</td>\n    </tr>\n  </tbody>\n</table>\n</div>"
     },
     "execution_count": 10,
     "metadata": {},
     "output_type": "execute_result"
    }
   ],
   "source": [
    "df_total_time.groupby(['ens_style']).median()"
   ],
   "metadata": {
    "collapsed": false,
    "pycharm": {
     "name": "#%%\n"
    }
   }
  }
 ],
 "metadata": {
  "kernelspec": {
   "display_name": "Python 3",
   "language": "python",
   "name": "python3"
  },
  "language_info": {
   "codemirror_mode": {
    "name": "ipython",
    "version": 2
   },
   "file_extension": ".py",
   "mimetype": "text/x-python",
   "name": "python",
   "nbconvert_exporter": "python",
   "pygments_lexer": "ipython2",
   "version": "2.7.6"
  }
 },
 "nbformat": 4,
 "nbformat_minor": 0
}
