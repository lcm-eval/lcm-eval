{
 "cells": [
  {
   "cell_type": "code",
   "id": "initial_id",
   "metadata": {
    "collapsed": true
   },
   "source": [
    "from evaluation.create_evaluation_workloads import get_query_tables, catalan_number\n",
    "import sqlparse\n",
    "from classes.paths import LocalPaths\n",
    "\n",
    "path = LocalPaths().code / \"experiments\" / \"evaluation_workloads\" / \"imdb\" / \"job-light.sql\"\n",
    "with open(str(path), \"r\") as f:\n",
    "    job_light = f.read()\n",
    "\n",
    "iterations = 0\n",
    "for index, query in enumerate(job_light.split(\";\")):\n",
    "    parsed_query = sqlparse.parse(query)\n",
    "    if parsed_query != \"\" and parsed_query != ():\n",
    "        join_tables = get_query_tables(parsed_query[0])\n",
    "        iterations += catalan_number(len(join_tables) - 1)\n",
    "print(f'{iterations} possible iterations found in total')"
   ],
   "outputs": [],
   "execution_count": null
  }
 ],
 "metadata": {
  "kernelspec": {
   "display_name": "Python 3",
   "language": "python",
   "name": "python3"
  },
  "language_info": {
   "codemirror_mode": {
    "name": "ipython",
    "version": 2
   },
   "file_extension": ".py",
   "mimetype": "text/x-python",
   "name": "python",
   "nbconvert_exporter": "python",
   "pygments_lexer": "ipython2",
   "version": "2.7.6"
  }
 },
 "nbformat": 4,
 "nbformat_minor": 5
}
